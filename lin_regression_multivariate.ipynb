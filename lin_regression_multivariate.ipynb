{
 "cells": [
  {
   "cell_type": "markdown",
   "metadata": {},
   "source": [
    "## Ko'p o'zgaruvchili chiziqli regressiya\n",
    "\n",
    "Avvaliga kerakli bibliotekalarni yuklab olaylik:\n",
    "- numpy - pitonda massivlar bilan ishlash uchun\n",
    "- pandas - pitonda ma'lumotlarni qayta ishlash uchun, biz esa CSV hamda jadval ko'rinishidagi ma'lumotlar bilan ishlash uchun yuklaymiz\n",
    "- matplotlib - pitonda chizish amallarini bajarish uchun, biz grafiklarni chizishda foydalanamiz\n",
    "- math - pitonda matematik amallar bilan ishlash uchun"
   ]
  },
  {
   "cell_type": "markdown",
   "metadata": {},
   "source": [
    "_Kutubxonalarni o'rnatish uchun quyidagi kodni ishga tushiring.(Agar oldindan o'rnatilgan bo'lsa shunchaki e'tiborsiz qoldiring)_"
   ]
  },
  {
   "cell_type": "code",
   "execution_count": null,
   "metadata": {},
   "outputs": [],
   "source": [
    "!pip install pandas numpy matplotlib"
   ]
  },
  {
   "cell_type": "code",
   "execution_count": 60,
   "metadata": {},
   "outputs": [],
   "source": [
    "import numpy as np\n",
    "import pandas as pd\n",
    "import matplotlib.pyplot as plt\n",
    "from matplotlib.pyplot import figure\n",
    "\n",
    "import math"
   ]
  },
  {
   "cell_type": "markdown",
   "metadata": {},
   "source": [
    "Ko'p o'zgaruvchili chiziqli regressiya uchun ushbu https://www.kaggle.com/mohansacharya/graduate-admissions vebsaytda keltirilgan ma'lumotlar to'plamidan foydalanamiz. Ushbu ma'lumotlar to'plamini yuklab olamiz hamda, ushbu \".ipynb\" fayl joylashgan katalogga joylaymiz va arxivdan chiqaramiz. So'ngra, *pandas* bibliotekasi yordamida yuklaymiz:"
   ]
  },
  {
   "cell_type": "code",
   "execution_count": 61,
   "metadata": {},
   "outputs": [],
   "source": [
    "df = pd.read_csv('Admission_Predict.csv')"
   ]
  },
  {
   "cell_type": "markdown",
   "metadata": {},
   "source": [
    "Ma'lumotlar ba'zasi bilan tanishib chiqaylik, ya'ni qanday ustunlar bor, va ulardagi ma'lumotlar qanday ko'rinishda, va h.k."
   ]
  },
  {
   "cell_type": "code",
   "execution_count": 62,
   "metadata": {
    "scrolled": true
   },
   "outputs": [
    {
     "data": {
      "text/html": [
       "<div>\n",
       "<style scoped>\n",
       "    .dataframe tbody tr th:only-of-type {\n",
       "        vertical-align: middle;\n",
       "    }\n",
       "\n",
       "    .dataframe tbody tr th {\n",
       "        vertical-align: top;\n",
       "    }\n",
       "\n",
       "    .dataframe thead th {\n",
       "        text-align: right;\n",
       "    }\n",
       "</style>\n",
       "<table border=\"1\" class=\"dataframe\">\n",
       "  <thead>\n",
       "    <tr style=\"text-align: right;\">\n",
       "      <th></th>\n",
       "      <th>Serial No.</th>\n",
       "      <th>GRE Score</th>\n",
       "      <th>TOEFL Score</th>\n",
       "      <th>University Rating</th>\n",
       "      <th>SOP</th>\n",
       "      <th>LOR</th>\n",
       "      <th>CGPA</th>\n",
       "      <th>Research</th>\n",
       "      <th>Chance of Admit</th>\n",
       "    </tr>\n",
       "  </thead>\n",
       "  <tbody>\n",
       "    <tr>\n",
       "      <th>0</th>\n",
       "      <td>1</td>\n",
       "      <td>337</td>\n",
       "      <td>118</td>\n",
       "      <td>4</td>\n",
       "      <td>4.5</td>\n",
       "      <td>4.5</td>\n",
       "      <td>9.65</td>\n",
       "      <td>1</td>\n",
       "      <td>0.92</td>\n",
       "    </tr>\n",
       "    <tr>\n",
       "      <th>1</th>\n",
       "      <td>2</td>\n",
       "      <td>324</td>\n",
       "      <td>107</td>\n",
       "      <td>4</td>\n",
       "      <td>4.0</td>\n",
       "      <td>4.5</td>\n",
       "      <td>8.87</td>\n",
       "      <td>1</td>\n",
       "      <td>0.76</td>\n",
       "    </tr>\n",
       "    <tr>\n",
       "      <th>2</th>\n",
       "      <td>3</td>\n",
       "      <td>316</td>\n",
       "      <td>104</td>\n",
       "      <td>3</td>\n",
       "      <td>3.0</td>\n",
       "      <td>3.5</td>\n",
       "      <td>8.00</td>\n",
       "      <td>1</td>\n",
       "      <td>0.72</td>\n",
       "    </tr>\n",
       "    <tr>\n",
       "      <th>3</th>\n",
       "      <td>4</td>\n",
       "      <td>322</td>\n",
       "      <td>110</td>\n",
       "      <td>3</td>\n",
       "      <td>3.5</td>\n",
       "      <td>2.5</td>\n",
       "      <td>8.67</td>\n",
       "      <td>1</td>\n",
       "      <td>0.80</td>\n",
       "    </tr>\n",
       "    <tr>\n",
       "      <th>4</th>\n",
       "      <td>5</td>\n",
       "      <td>314</td>\n",
       "      <td>103</td>\n",
       "      <td>2</td>\n",
       "      <td>2.0</td>\n",
       "      <td>3.0</td>\n",
       "      <td>8.21</td>\n",
       "      <td>0</td>\n",
       "      <td>0.65</td>\n",
       "    </tr>\n",
       "  </tbody>\n",
       "</table>\n",
       "</div>"
      ],
      "text/plain": [
       "   Serial No.  GRE Score  TOEFL Score  University Rating  SOP  LOR   CGPA  \\\n",
       "0           1        337          118                  4  4.5   4.5  9.65   \n",
       "1           2        324          107                  4  4.0   4.5  8.87   \n",
       "2           3        316          104                  3  3.0   3.5  8.00   \n",
       "3           4        322          110                  3  3.5   2.5  8.67   \n",
       "4           5        314          103                  2  2.0   3.0  8.21   \n",
       "\n",
       "   Research  Chance of Admit   \n",
       "0         1              0.92  \n",
       "1         1              0.76  \n",
       "2         1              0.72  \n",
       "3         1              0.80  \n",
       "4         0              0.65  "
      ]
     },
     "execution_count": 62,
     "metadata": {},
     "output_type": "execute_result"
    }
   ],
   "source": [
    "df.head()"
   ]
  },
  {
   "cell_type": "markdown",
   "metadata": {},
   "source": [
    "Biz foydalaniladigan ma'lumotlar to'plami - abituriyentlarning ko'rsatkichlariga qarab, dunyoning yetakchi universitetlariga kirish ehtimoli haqidagi ma'lumotlarni o'z ichiga oladi. Ushbu ma'lumotlar to'plami bilan kengroq tanishsak:\n",
    "- Serial No. - qatorning tartib raqam (hech qanday ahamiyatga ega emas)\n",
    "- GRE Score - abituriyentning GRE (Graduate Record Examinations) - imtihonidan olgan balli (maks - 340)\n",
    "- TOEFL Score - abituriyentning TOEFL ingliz tili imtihonidan olgan balli (maks - 120)\n",
    "- University Rating - abituriyent o'qimoqchi bo'lgan universitetning reytingi (maks - 5)\n",
    "- SOP - Abiturient maqsadi ifodalangan arizasi baholangani (maks - 5)\n",
    "- LOR - Abiturient tavsiyanomasi kuchi (maks - 5)\n",
    "- CGPA - Abiturientning oldingi bilim yurtidagi o'rtacha bahosi (maks - 10)\n",
    "- Research - Ilmiy tadqiqot tajribasi bor yoki yo'qligi (0 yoki 1)\n",
    "- Chance of Admit - abiturient tanlagan universitetga kirish ehtimolligi  (\\[0,1\\] oraliqda)"
   ]
  },
  {
   "cell_type": "markdown",
   "metadata": {},
   "source": [
    "Endi ma'lumotlar to'plamining texnik jihatlari bilan tanishsak, ya'ni qanday formatda, qatorlar soni va h.k."
   ]
  },
  {
   "cell_type": "code",
   "execution_count": 63,
   "metadata": {},
   "outputs": [
    {
     "name": "stdout",
     "output_type": "stream",
     "text": [
      "<class 'pandas.core.frame.DataFrame'>\n",
      "RangeIndex: 400 entries, 0 to 399\n",
      "Data columns (total 9 columns):\n",
      " #   Column             Non-Null Count  Dtype  \n",
      "---  ------             --------------  -----  \n",
      " 0   Serial No.         400 non-null    int64  \n",
      " 1   GRE Score          400 non-null    int64  \n",
      " 2   TOEFL Score        400 non-null    int64  \n",
      " 3   University Rating  400 non-null    int64  \n",
      " 4   SOP                400 non-null    float64\n",
      " 5   LOR                400 non-null    float64\n",
      " 6   CGPA               400 non-null    float64\n",
      " 7   Research           400 non-null    int64  \n",
      " 8   Chance of Admit    400 non-null    float64\n",
      "dtypes: float64(4), int64(5)\n",
      "memory usage: 28.2 KB\n"
     ]
    }
   ],
   "source": [
    "df.info()"
   ]
  },
  {
   "cell_type": "markdown",
   "metadata": {},
   "source": [
    "Ko'rib turganimizdek, ma'lumotlar to'plami 400 ta qatordan iborat hamda har bir ustun turli xil formatlarda (*int64* va *float64*). Ushbu ma'lumotlar to'plamini matematik amallarga, xususan chiziqli regressiya jarayoniga moslaylik. Bunda, avvalo hisob-kitoblarda qulay bo'lishi uchun *numpy* massiviga o'giramiz, bunda ustunlarni formati sifatida *float64* tanlaymiz."
   ]
  },
  {
   "cell_type": "code",
   "execution_count": 64,
   "metadata": {},
   "outputs": [],
   "source": [
    "df = np.array(df, dtype = float)"
   ]
  },
  {
   "cell_type": "code",
   "execution_count": 65,
   "metadata": {},
   "outputs": [
    {
     "data": {
      "text/plain": [
       "(400, 9)"
      ]
     },
     "execution_count": 65,
     "metadata": {},
     "output_type": "execute_result"
    }
   ],
   "source": [
    "df.shape"
   ]
  },
  {
   "cell_type": "markdown",
   "metadata": {},
   "source": [
    "Ma'lumotlar to'plamidan o'rganish jarayoni uchun ustunlarni ajratib olamiz, va *X* o'zgaruvchisiga massiv sifatida yuklaymiz. Bunda keraksiz ustunlarni, xususan **Serial No** ustunini, tashlab yuboramiz. E'tibor bering, oxirgi ustun **Chance of Admit** ustuni ham yuklanmayapti, sababi bu ustunni alohida o'zgaruvchiga nishonlar massivi sifatida yuklaymiz."
   ]
  },
  {
   "cell_type": "code",
   "execution_count": 66,
   "metadata": {},
   "outputs": [],
   "source": [
    "X = df[:,1:8]"
   ]
  },
  {
   "cell_type": "code",
   "execution_count": 67,
   "metadata": {},
   "outputs": [
    {
     "data": {
      "text/plain": [
       "array([[337.  , 118.  ,   4.  ,   4.5 ,   4.5 ,   9.65,   1.  ],\n",
       "       [324.  , 107.  ,   4.  ,   4.  ,   4.5 ,   8.87,   1.  ],\n",
       "       [316.  , 104.  ,   3.  ,   3.  ,   3.5 ,   8.  ,   1.  ],\n",
       "       [322.  , 110.  ,   3.  ,   3.5 ,   2.5 ,   8.67,   1.  ],\n",
       "       [314.  , 103.  ,   2.  ,   2.  ,   3.  ,   8.21,   0.  ],\n",
       "       [330.  , 115.  ,   5.  ,   4.5 ,   3.  ,   9.34,   1.  ],\n",
       "       [321.  , 109.  ,   3.  ,   3.  ,   4.  ,   8.2 ,   1.  ],\n",
       "       [308.  , 101.  ,   2.  ,   3.  ,   4.  ,   7.9 ,   0.  ],\n",
       "       [302.  , 102.  ,   1.  ,   2.  ,   1.5 ,   8.  ,   0.  ],\n",
       "       [323.  , 108.  ,   3.  ,   3.5 ,   3.  ,   8.6 ,   0.  ]])"
      ]
     },
     "execution_count": 67,
     "metadata": {},
     "output_type": "execute_result"
    }
   ],
   "source": [
    "X[:10]"
   ]
  },
  {
   "cell_type": "code",
   "execution_count": 68,
   "metadata": {},
   "outputs": [
    {
     "data": {
      "text/plain": [
       "7"
      ]
     },
     "execution_count": 68,
     "metadata": {},
     "output_type": "execute_result"
    }
   ],
   "source": [
    "X.shape[1]"
   ]
  },
  {
   "cell_type": "markdown",
   "metadata": {},
   "source": [
    "Ma'lumotlar to'plamidan nishonlarni ajratib olamiz, va *Y* o'zgaruvchisiga yuklaymiz."
   ]
  },
  {
   "cell_type": "code",
   "execution_count": 69,
   "metadata": {},
   "outputs": [],
   "source": [
    "Y = df[:,8:]"
   ]
  },
  {
   "cell_type": "code",
   "execution_count": 70,
   "metadata": {},
   "outputs": [
    {
     "data": {
      "text/plain": [
       "(400, 1)"
      ]
     },
     "execution_count": 70,
     "metadata": {},
     "output_type": "execute_result"
    }
   ],
   "source": [
    "Y.shape"
   ]
  },
  {
   "cell_type": "code",
   "execution_count": 71,
   "metadata": {},
   "outputs": [
    {
     "data": {
      "text/plain": [
       "array([[0.92],\n",
       "       [0.76],\n",
       "       [0.72],\n",
       "       [0.8 ],\n",
       "       [0.65],\n",
       "       [0.9 ],\n",
       "       [0.75],\n",
       "       [0.68],\n",
       "       [0.5 ],\n",
       "       [0.45]])"
      ]
     },
     "execution_count": 71,
     "metadata": {},
     "output_type": "execute_result"
    }
   ],
   "source": [
    "Y[:10]"
   ]
  },
  {
   "cell_type": "markdown",
   "metadata": {},
   "source": [
    "Yuqorida ko'rib turganimizdek, nishonlar massivi \\[0,1\\] oraliqdagi sonlardan iborat. Hisob kitoblarda qulaylik yaratish uchun ularni \\[0,100\\] oraliqqa tushiraylik."
   ]
  },
  {
   "cell_type": "code",
   "execution_count": 72,
   "metadata": {},
   "outputs": [],
   "source": [
    "Y = Y * 100"
   ]
  },
  {
   "cell_type": "code",
   "execution_count": 73,
   "metadata": {
    "scrolled": true
   },
   "outputs": [
    {
     "data": {
      "text/plain": [
       "array([[92.],\n",
       "       [76.],\n",
       "       [72.],\n",
       "       [80.],\n",
       "       [65.],\n",
       "       [90.],\n",
       "       [75.],\n",
       "       [68.],\n",
       "       [50.],\n",
       "       [45.]])"
      ]
     },
     "execution_count": 73,
     "metadata": {},
     "output_type": "execute_result"
    }
   ],
   "source": [
    "Y[:10]"
   ]
  },
  {
   "cell_type": "markdown",
   "metadata": {},
   "source": [
    "## Kirish o'zgaruvchilari sayqallanishi - standartlashtirish"
   ]
  },
  {
   "cell_type": "markdown",
   "metadata": {},
   "source": [
    "Kirish o'zgaruvchilarini sayqallashtirishda standartlashtirish usuilidan foydalanaylik, bunda quyidagi formuladan foydalanamiz:\n",
    "\n",
    "$ x_j^{(i)} := \\frac{x_j^{(i)} - \\mu_j }{S_j} $\n",
    "\n",
    "Yuqoridagi formuladagi o'rta arifmetik qiymat ($\\mu_j$) hamda o'rta kvadratik og'ishni ($S_j$) topishda *numpy* bibliotekasidagi *mean()* va *std()* funksiyalardan foydalanamiz va ushbu formulani ifoda etuvchi *feature_scaling* funksiyasini yarataylik."
   ]
  },
  {
   "cell_type": "code",
   "execution_count": 101,
   "metadata": {},
   "outputs": [],
   "source": [
    "def feature_scaling(X):\n",
    "    avg_array = np.mean(X, 0)\n",
    "    std_array = np.std(X, 0)\n",
    "    return np.divide(X - avg_array, std_array)"
   ]
  },
  {
   "cell_type": "code",
   "execution_count": 75,
   "metadata": {},
   "outputs": [],
   "source": [
    "X = feature_scaling(X)"
   ]
  },
  {
   "cell_type": "code",
   "execution_count": 76,
   "metadata": {
    "scrolled": true
   },
   "outputs": [
    {
     "data": {
      "text/plain": [
       "array([[ 1.76210664e+00,  1.74697064e+00,  7.98828624e-01,\n",
       "         1.09386422e+00,  1.16732114e+00,  1.76481828e+00,\n",
       "         9.09111664e-01],\n",
       "       [ 6.27656409e-01, -6.76353128e-02,  7.98828624e-01,\n",
       "         5.96653212e-01,  1.16732114e+00,  4.55151264e-01,\n",
       "         9.09111664e-01],\n",
       "       [-7.04668127e-02, -5.62527846e-01, -7.66000050e-02,\n",
       "        -3.97768808e-01,  5.29334168e-02, -1.00563118e+00,\n",
       "         9.09111664e-01],\n",
       "       [ 4.53125604e-01,  4.27257220e-01, -7.66000050e-02,\n",
       "         9.94422020e-02, -1.06145431e+00,  1.19339209e-01,\n",
       "         9.09111664e-01],\n",
       "       [-2.44997618e-01, -7.27492023e-01, -9.52028634e-01,\n",
       "        -1.39219083e+00, -5.04260444e-01, -6.53028518e-01,\n",
       "        -1.09997489e+00],\n",
       "       [ 1.15124883e+00,  1.25207811e+00,  1.67425725e+00,\n",
       "         1.09386422e+00, -5.04260444e-01,  1.24430959e+00,\n",
       "         9.09111664e-01],\n",
       "       [ 3.65860201e-01,  2.62293042e-01, -7.66000050e-02,\n",
       "        -3.97768808e-01,  6.10127278e-01, -6.69819121e-01,\n",
       "         9.09111664e-01],\n",
       "       [-7.68590034e-01, -1.05742038e+00, -9.52028634e-01,\n",
       "        -3.97768808e-01,  6.10127278e-01, -1.17353720e+00,\n",
       "        -1.09997489e+00],\n",
       "       [-1.29218245e+00, -8.92456201e-01, -1.82745726e+00,\n",
       "        -1.39219083e+00, -2.17584203e+00, -1.00563118e+00,\n",
       "        -1.09997489e+00],\n",
       "       [ 5.40391006e-01,  9.73288648e-02, -7.66000050e-02,\n",
       "         9.94422020e-02, -5.04260444e-01,  1.80498980e-03,\n",
       "        -1.09997489e+00]])"
      ]
     },
     "execution_count": 76,
     "metadata": {},
     "output_type": "execute_result"
    }
   ],
   "source": [
    "X[:10]"
   ]
  },
  {
   "cell_type": "markdown",
   "metadata": {},
   "source": [
    "Vertikal hisoblarda qulay bo'lish uchun, qiymati $1$dan iborat bo'lgan vektor $X_0$ni $X$ massiviga qo'shaylik."
   ]
  },
  {
   "cell_type": "code",
   "execution_count": 77,
   "metadata": {},
   "outputs": [],
   "source": [
    "def add_bias(X):\n",
    "    A_0 = np.ones((X.shape[0], 1))\n",
    "    return np.hstack((A_0, X))"
   ]
  },
  {
   "cell_type": "code",
   "execution_count": 78,
   "metadata": {},
   "outputs": [],
   "source": [
    "X = add_bias(X)"
   ]
  },
  {
   "cell_type": "code",
   "execution_count": 79,
   "metadata": {},
   "outputs": [
    {
     "data": {
      "text/plain": [
       "array([[ 1.00000000e+00,  1.76210664e+00,  1.74697064e+00,\n",
       "         7.98828624e-01,  1.09386422e+00,  1.16732114e+00,\n",
       "         1.76481828e+00,  9.09111664e-01],\n",
       "       [ 1.00000000e+00,  6.27656409e-01, -6.76353128e-02,\n",
       "         7.98828624e-01,  5.96653212e-01,  1.16732114e+00,\n",
       "         4.55151264e-01,  9.09111664e-01],\n",
       "       [ 1.00000000e+00, -7.04668127e-02, -5.62527846e-01,\n",
       "        -7.66000050e-02, -3.97768808e-01,  5.29334168e-02,\n",
       "        -1.00563118e+00,  9.09111664e-01],\n",
       "       [ 1.00000000e+00,  4.53125604e-01,  4.27257220e-01,\n",
       "        -7.66000050e-02,  9.94422020e-02, -1.06145431e+00,\n",
       "         1.19339209e-01,  9.09111664e-01],\n",
       "       [ 1.00000000e+00, -2.44997618e-01, -7.27492023e-01,\n",
       "        -9.52028634e-01, -1.39219083e+00, -5.04260444e-01,\n",
       "        -6.53028518e-01, -1.09997489e+00],\n",
       "       [ 1.00000000e+00,  1.15124883e+00,  1.25207811e+00,\n",
       "         1.67425725e+00,  1.09386422e+00, -5.04260444e-01,\n",
       "         1.24430959e+00,  9.09111664e-01],\n",
       "       [ 1.00000000e+00,  3.65860201e-01,  2.62293042e-01,\n",
       "        -7.66000050e-02, -3.97768808e-01,  6.10127278e-01,\n",
       "        -6.69819121e-01,  9.09111664e-01],\n",
       "       [ 1.00000000e+00, -7.68590034e-01, -1.05742038e+00,\n",
       "        -9.52028634e-01, -3.97768808e-01,  6.10127278e-01,\n",
       "        -1.17353720e+00, -1.09997489e+00],\n",
       "       [ 1.00000000e+00, -1.29218245e+00, -8.92456201e-01,\n",
       "        -1.82745726e+00, -1.39219083e+00, -2.17584203e+00,\n",
       "        -1.00563118e+00, -1.09997489e+00],\n",
       "       [ 1.00000000e+00,  5.40391006e-01,  9.73288648e-02,\n",
       "        -7.66000050e-02,  9.94422020e-02, -5.04260444e-01,\n",
       "         1.80498980e-03, -1.09997489e+00]])"
      ]
     },
     "execution_count": 79,
     "metadata": {},
     "output_type": "execute_result"
    }
   ],
   "source": [
    "X[:10]"
   ]
  },
  {
   "cell_type": "code",
   "execution_count": 80,
   "metadata": {},
   "outputs": [
    {
     "data": {
      "text/plain": [
       "8"
      ]
     },
     "execution_count": 80,
     "metadata": {},
     "output_type": "execute_result"
    }
   ],
   "source": [
    "X.shape[1]"
   ]
  },
  {
   "cell_type": "markdown",
   "metadata": {},
   "source": [
    "## Ma'lumotlarni mashq/test to'plamlariga bo'lish\n",
    "\n",
    "Bizda mavjud bo'lgan ma'lumotlar to'plamini mash/test to'plamlariga bo'laylik. Bunda biz yaratadigan chiziqli regressiya mashq datasetdan o'rganadi va test datasetdan uning effektivligini tekshiramiz. Mashq/test datasetga bo'lishda 80/20 nisbatdan foydalanamiz, ya'ni ma'lumotlar to'plamining 80% mashq va 20% esa test datasetga bo'lamiz."
   ]
  },
  {
   "cell_type": "code",
   "execution_count": 81,
   "metadata": {},
   "outputs": [],
   "source": [
    "rows, _ = X.shape"
   ]
  },
  {
   "cell_type": "code",
   "execution_count": 82,
   "metadata": {},
   "outputs": [
    {
     "data": {
      "text/plain": [
       "400"
      ]
     },
     "execution_count": 82,
     "metadata": {},
     "output_type": "execute_result"
    }
   ],
   "source": [
    "rows"
   ]
  },
  {
   "cell_type": "code",
   "execution_count": 83,
   "metadata": {},
   "outputs": [],
   "source": [
    "def split(X, Y):\n",
    "    rows, _ = X.shape\n",
    "    train_rows = round(rows * 0.8)\n",
    "    test_rows = rows - train_rows\n",
    "    return X[0:train_rows,:], X[train_rows:, :], Y[0:train_rows,:], Y[train_rows:, :]    "
   ]
  },
  {
   "cell_type": "code",
   "execution_count": 84,
   "metadata": {},
   "outputs": [],
   "source": [
    "X_train, X_test, Y_train, Y_test = split(X, Y)"
   ]
  },
  {
   "cell_type": "code",
   "execution_count": 85,
   "metadata": {},
   "outputs": [
    {
     "data": {
      "text/plain": [
       "(320, 8)"
      ]
     },
     "execution_count": 85,
     "metadata": {},
     "output_type": "execute_result"
    }
   ],
   "source": [
    "X_train.shape"
   ]
  },
  {
   "cell_type": "code",
   "execution_count": 86,
   "metadata": {},
   "outputs": [
    {
     "data": {
      "text/plain": [
       "(80, 8)"
      ]
     },
     "execution_count": 86,
     "metadata": {},
     "output_type": "execute_result"
    }
   ],
   "source": [
    "X_test.shape"
   ]
  },
  {
   "cell_type": "code",
   "execution_count": 87,
   "metadata": {},
   "outputs": [
    {
     "data": {
      "text/plain": [
       "(320, 1)"
      ]
     },
     "execution_count": 87,
     "metadata": {},
     "output_type": "execute_result"
    }
   ],
   "source": [
    "Y_train.shape"
   ]
  },
  {
   "cell_type": "code",
   "execution_count": 88,
   "metadata": {},
   "outputs": [
    {
     "data": {
      "text/plain": [
       "(80, 1)"
      ]
     },
     "execution_count": 88,
     "metadata": {},
     "output_type": "execute_result"
    }
   ],
   "source": [
    "Y_test.shape"
   ]
  },
  {
   "cell_type": "markdown",
   "metadata": {},
   "source": [
    "## Koefisientlarni inisializatsiya qilish"
   ]
  },
  {
   "cell_type": "markdown",
   "metadata": {},
   "source": [
    "Ko'p o'zgaruvchili Chiziqli regressiyaning formulasini eslaylik:\n",
    "<br><br>\n",
    "$     f(x) = a_0 \\times x_0 + a_1 \\times x_1 + a_2 \\times x_2 + \\cdots + a_n \\times x_n $\n",
    "<br><br>\n",
    "Bizda $n = 7$, chunki ma'lumotlar to'plamida 7 ustun mavjud ($8$-ustun bu qiymati $1$dan iborat bo'lgan $a_0$ vektor). Demak bizda, $a_0$ biasni ham hisobga olganda, 8ta koefisient bo'ladi va ularni vektorlangan ko'rinishda 1 o'lchamli massivda ifodalashimiz mumkin. Koefisientlarni inisializatsiya qilishda *numpy* bibliotekasining tasodifiy sonlarni generatsiya qiluvchi *rand* funksiyasidan foydalanamiz."
   ]
  },
  {
   "cell_type": "code",
   "execution_count": 97,
   "metadata": {},
   "outputs": [],
   "source": [
    "A = np.random.rand(X.shape[1], 1)"
   ]
  },
  {
   "cell_type": "code",
   "execution_count": 98,
   "metadata": {
    "scrolled": true
   },
   "outputs": [
    {
     "data": {
      "text/plain": [
       "(8, 1)"
      ]
     },
     "execution_count": 98,
     "metadata": {},
     "output_type": "execute_result"
    }
   ],
   "source": [
    "A.shape"
   ]
  },
  {
   "cell_type": "code",
   "execution_count": 99,
   "metadata": {
    "scrolled": false
   },
   "outputs": [
    {
     "data": {
      "text/plain": [
       "array([[0.07042477],\n",
       "       [0.7972022 ],\n",
       "       [0.05362282],\n",
       "       [0.34852107],\n",
       "       [0.07301798],\n",
       "       [0.86767702],\n",
       "       [0.33891533],\n",
       "       [0.46241372]])"
      ]
     },
     "execution_count": 99,
     "metadata": {},
     "output_type": "execute_result"
    }
   ],
   "source": [
    "A"
   ]
  },
  {
   "cell_type": "markdown",
   "metadata": {},
   "source": [
    "## Chiziqli regressiya funksiyasi\n",
    "Bizda koefisientlar uchun o'zgaruvchilarni aniqlab oldik, endi chiziqli regressiyaning asosiy funksiyani aniqlasak bo'ladi. Ushbu funksiyani *f_x()* deb ataylik."
   ]
  },
  {
   "cell_type": "code",
   "execution_count": 34,
   "metadata": {},
   "outputs": [],
   "source": [
    "def f_x(X, A):\n",
    "    return np.dot(X,A)"
   ]
  },
  {
   "cell_type": "markdown",
   "metadata": {},
   "source": [
    "## Qiymat funskiyasi va Gradient tushish"
   ]
  },
  {
   "cell_type": "markdown",
   "metadata": {},
   "source": [
    "Chiziqli regressiyaning qiymat funksiyasini eslaylik:\n",
    "<br><br>\n",
    "$     J = \\frac{1}{2m} \\sum_{i=1}^{m} (f(x^{(i)}) - y^{(i)})^2 $\n",
    "\n",
    "<br>\n",
    "Ushbu qimat funksiyasini dasturda ifodalaylik:"
   ]
  },
  {
   "cell_type": "code",
   "execution_count": 35,
   "metadata": {},
   "outputs": [],
   "source": [
    "def cost(X, A, Y, m):\n",
    "    diff = f_x(X, A) - Y\n",
    "    diff_2 = np.power(diff, 2)\n",
    "    sum_ = np.sum(diff_2)\n",
    "    cost_ = sum_ / (2 * m)\n",
    "    return cost_"
   ]
  },
  {
   "cell_type": "markdown",
   "metadata": {},
   "source": [
    "Gradient tushishda esa, biz yuqoridagi qiymat funksiyasini minimallashtiruvchi parametrlarni topamiz. Bunda biz har bir parameter uchun ma'lum bir qator davomida quyidagi ifodani takrorlashimiz kerak:\n",
    "\n",
    "takrorla, $ k=1 \\cdots epochs $ $ \\{ $ <br>\n",
    "&nbsp;&nbsp;&nbsp;&nbsp;&nbsp;&nbsp; $ a_j := a_j - \\alpha \\frac{1}{m} \\sum_{i=1}^{m} (f(x^{(i)}) - y^{(i)}) \\times x^{(i)}_j $ <br>\n",
    "&nbsp;&nbsp;&nbsp;&nbsp; $ \\} $<br>\n",
    "\n",
    "Yuqoridagi siklni amalga oshirishda bir qator giperparametrlarni aniqlab olaylik:\n",
    "- Qadamlar soninig qiymatini $500$ deb belgilaymiz va *epochs* o'zgaruvchisida saqlaymiz\n",
    "- O'rganish darajasini $0.1$ deb belgilaylik va *learning_rate* o'zgaruvchisida saqlaymiz\n",
    "\n",
    "Har bir qadamdagi qiymatni hisoblaymiz va, *costs* massivida saqlaymiz."
   ]
  },
  {
   "cell_type": "code",
   "execution_count": 102,
   "metadata": {},
   "outputs": [],
   "source": [
    "epochs = 100\n",
    "learning_rate = 0.05"
   ]
  },
  {
   "cell_type": "markdown",
   "metadata": {},
   "source": [
    "Gradient tushishni amalga oshiruvchi funksiyani yaratamiz va $gradient\\_descent$ deb nomlaymiz"
   ]
  },
  {
   "cell_type": "code",
   "execution_count": 37,
   "metadata": {},
   "outputs": [],
   "source": [
    "def gradient_descent(X_train, Y_train, X_test, Y_test, A, learning_rate, epochs):\n",
    "    m_train = Y_train.shape[0]\n",
    "    m_test = Y_test.shape[0]\n",
    "    train_costs = []\n",
    "    test_costs = []\n",
    "    for k in range(epochs):\n",
    "        fx = f_x(X_train, A)\n",
    "        sum_diff = np.dot(X_train.T, np.subtract(fx, Y_train)) / m_train\n",
    "        A = A - learning_rate * sum_diff\n",
    "        cost_train = cost(X_train, A, Y_train, m_train)\n",
    "        cost_test = cost(X_test, A, Y_test, m_test)\n",
    "        if k % 10 == 0:\n",
    "            print('epoch: %d, %f'% (k, cost_train))\n",
    "            print('epoch: %d, %f'% (k, cost_test))\n",
    "        train_costs.append(cost_train)\n",
    "        test_costs.append(cost_test)\n",
    "    return A, train_costs, test_costs"
   ]
  },
  {
   "cell_type": "markdown",
   "metadata": {},
   "source": [
    "Gradient tushishni amalaga oshiraylik, bunda biz yaratgan *gradient_descent* funksiyasidan foydalanamiz va ushbu funksiya gradient tushishni amalga oshirib, topilgan optimal qiymatni *A* o'zgaruvchisi va har bir qadamdagi *mashq* va *test* to'plamlar uchun qiymat funksiyani ifoda etuvchi *train_costs*, *test_costs* massivlarini qaytaradi."
   ]
  },
  {
   "cell_type": "code",
   "execution_count": 38,
   "metadata": {},
   "outputs": [
    {
     "name": "stdout",
     "output_type": "stream",
     "text": [
      "epoch: 0, 2345.102347\n",
      "epoch: 0, 2342.961236\n",
      "epoch: 10, 833.895532\n",
      "epoch: 10, 982.567122\n",
      "epoch: 20, 315.547529\n",
      "epoch: 20, 401.266495\n",
      "epoch: 30, 128.295151\n",
      "epoch: 30, 175.199474\n",
      "epoch: 40, 60.274142\n",
      "epoch: 40, 86.605985\n",
      "epoch: 50, 35.381449\n",
      "epoch: 50, 50.669755\n",
      "epoch: 60, 26.160050\n",
      "epoch: 60, 35.368646\n",
      "epoch: 70, 22.670442\n",
      "epoch: 70, 28.452940\n",
      "epoch: 80, 21.298593\n",
      "epoch: 80, 25.113725\n",
      "epoch: 90, 20.722400\n",
      "epoch: 90, 23.392565\n"
     ]
    }
   ],
   "source": [
    "A, train_costs, test_costs = gradient_descent(X_train, Y_train, X_test, Y_test, A, learning_rate, epochs)"
   ]
  },
  {
   "cell_type": "markdown",
   "metadata": {},
   "source": [
    "Gradient tushishda qiymat funksiyasining qay darajada o'zgarganini vizual ko'rish uchun, grafik *plot_cost* funksiyasini yarataylik, ushbu funksiya *matplotlib* bibliotekasidan foydalanib graf chizadi."
   ]
  },
  {
   "cell_type": "code",
   "execution_count": 39,
   "metadata": {},
   "outputs": [],
   "source": [
    "def plot_cost(train_costs,test_costs, epochs):\n",
    "    plt.xlabel('Epochs')\n",
    "    plt.ylabel('Cost')\n",
    "    plt.plot(epochs, train_costs, 'm', linewidth = \"1\", color='r', label='mashqdagi xatolik')\n",
    "    plt.plot(epochs, test_costs, 'm', linewidth = \"1\", color='g', label='testdagi xatolik')\n",
    "    plt.legend(loc=\"upper right\")\n",
    "    plt.show()"
   ]
  },
  {
   "cell_type": "markdown",
   "metadata": {},
   "source": [
    "*plot_cost* funksiyasi parametr sifatida 3 ta massiv o'zgaruvchisini qabul qiladi va bular:\n",
    "-  mashq to'plami uchun qiymat funksiyasining natijasi ifodalangan massiv, *train_costs* o'zgaruvchisi\n",
    "-  test to'plami uchun qiymat funksiyasining natijasi ifodalangan massiv, *test_costs* o'zgaruvchisi\n",
    "- qadamlarni ifoda etuvchi massiv, *epochs* o'zgaruvchisi"
   ]
  },
  {
   "cell_type": "code",
   "execution_count": 100,
   "metadata": {
    "scrolled": true
   },
   "outputs": [],
   "source": [
    "n_epochs = np.arange(1, epochs + 1)\n",
    "n_train_costs = np.array(train_costs)\n",
    "n_test_costs = np.array(test_costs)"
   ]
  },
  {
   "cell_type": "code",
   "execution_count": 41,
   "metadata": {},
   "outputs": [],
   "source": [
    "def calculate_loss(X, A, Y):\n",
    "    m = Y.shape[0]\n",
    "    fx = f_x(X, A)\n",
    "    diff = fx - Y\n",
    "    kv = np.power(diff, 2)\n",
    "    sum_kv = np.sum(kv)\n",
    "    kv_m = sum_kv / m\n",
    "    for i in range(m):    \n",
    "        print('i: %d, fx: %f, Y: %f, diff: %f, kv: %f'%(i, fx[i], Y[i], diff[i], kv[i]))\n",
    "    rmse = math.sqrt(kv_m)\n",
    "    print('sum: %f, kv_m: %f, rmse: %f'%(sum_kv, kv_m, rmse))\n",
    "    return rmse"
   ]
  },
  {
   "cell_type": "code",
   "execution_count": 42,
   "metadata": {},
   "outputs": [
    {
     "name": "stdout",
     "output_type": "stream",
     "text": [
      "i: 0, fx: 71.051205, Y: 75.000000, diff: -3.948795, kv: 15.592984\n",
      "i: 1, fx: 72.069340, Y: 73.000000, diff: -0.930660, kv: 0.866128\n",
      "i: 2, fx: 67.168504, Y: 72.000000, diff: -4.831496, kv: 23.343351\n",
      "i: 3, fx: 58.397359, Y: 62.000000, diff: -3.602641, kv: 12.979024\n",
      "i: 4, fx: 63.817418, Y: 67.000000, diff: -3.182582, kv: 10.128830\n",
      "i: 5, fx: 83.984315, Y: 81.000000, diff: 2.984315, kv: 8.906139\n",
      "i: 6, fx: 54.675788, Y: 63.000000, diff: -8.324212, kv: 69.292513\n",
      "i: 7, fx: 52.106927, Y: 69.000000, diff: -16.893073, kv: 285.375906\n",
      "i: 8, fx: 78.453317, Y: 80.000000, diff: -1.546683, kv: 2.392229\n",
      "i: 9, fx: 49.207527, Y: 43.000000, diff: 6.207527, kv: 38.533393\n",
      "i: 10, fx: 76.091244, Y: 80.000000, diff: -3.908756, kv: 15.278374\n",
      "i: 11, fx: 60.999872, Y: 73.000000, diff: -12.000128, kv: 144.003074\n",
      "i: 12, fx: 64.091640, Y: 75.000000, diff: -10.908360, kv: 118.992326\n",
      "i: 13, fx: 72.399156, Y: 71.000000, diff: 1.399156, kv: 1.957637\n",
      "i: 14, fx: 74.277975, Y: 73.000000, diff: 1.277975, kv: 1.633219\n",
      "i: 15, fx: 83.712559, Y: 83.000000, diff: 0.712559, kv: 0.507740\n",
      "i: 16, fx: 71.280163, Y: 72.000000, diff: -0.719837, kv: 0.518166\n",
      "i: 17, fx: 93.918534, Y: 94.000000, diff: -0.081466, kv: 0.006637\n",
      "i: 18, fx: 78.489938, Y: 81.000000, diff: -2.510062, kv: 6.300411\n",
      "i: 19, fx: 77.394782, Y: 81.000000, diff: -3.605218, kv: 12.997600\n",
      "i: 20, fx: 68.621584, Y: 75.000000, diff: -6.378416, kv: 40.684193\n",
      "i: 21, fx: 76.697321, Y: 79.000000, diff: -2.302679, kv: 5.302329\n",
      "i: 22, fx: 63.880907, Y: 58.000000, diff: 5.880907, kv: 34.585067\n",
      "i: 23, fx: 61.132096, Y: 59.000000, diff: 2.132096, kv: 4.545832\n",
      "i: 24, fx: 45.059185, Y: 47.000000, diff: -1.940815, kv: 3.766764\n",
      "i: 25, fx: 49.773150, Y: 49.000000, diff: 0.773150, kv: 0.597761\n",
      "i: 26, fx: 49.840468, Y: 47.000000, diff: 2.840468, kv: 8.068259\n",
      "i: 27, fx: 41.201246, Y: 42.000000, diff: -0.798754, kv: 0.638008\n",
      "i: 28, fx: 46.115537, Y: 57.000000, diff: -10.884463, kv: 118.471540\n",
      "i: 29, fx: 60.709877, Y: 62.000000, diff: -1.290123, kv: 1.664417\n",
      "i: 30, fx: 69.416597, Y: 74.000000, diff: -4.583403, kv: 21.007585\n",
      "i: 31, fx: 78.020093, Y: 73.000000, diff: 5.020093, kv: 25.201335\n",
      "i: 32, fx: 60.543871, Y: 64.000000, diff: -3.456129, kv: 11.944827\n",
      "i: 33, fx: 58.786284, Y: 63.000000, diff: -4.213716, kv: 17.755400\n",
      "i: 34, fx: 52.064746, Y: 59.000000, diff: -6.935254, kv: 48.097753\n",
      "i: 35, fx: 64.565086, Y: 73.000000, diff: -8.434914, kv: 71.147774\n",
      "i: 36, fx: 77.811472, Y: 79.000000, diff: -1.188528, kv: 1.412599\n",
      "i: 37, fx: 60.635577, Y: 68.000000, diff: -7.364423, kv: 54.234727\n",
      "i: 38, fx: 55.661966, Y: 70.000000, diff: -14.338034, kv: 205.579219\n",
      "i: 39, fx: 63.411260, Y: 81.000000, diff: -17.588740, kv: 309.363785\n",
      "i: 40, fx: 78.891460, Y: 85.000000, diff: -6.108540, kv: 37.314261\n",
      "i: 41, fx: 88.852489, Y: 93.000000, diff: -4.147511, kv: 17.201848\n",
      "i: 42, fx: 91.496318, Y: 91.000000, diff: 0.496318, kv: 0.246331\n",
      "i: 43, fx: 62.030069, Y: 69.000000, diff: -6.969931, kv: 48.579940\n",
      "i: 44, fx: 73.084244, Y: 77.000000, diff: -3.915756, kv: 15.333143\n",
      "i: 45, fx: 82.831640, Y: 86.000000, diff: -3.168360, kv: 10.038503\n",
      "i: 46, fx: 71.769618, Y: 74.000000, diff: -2.230382, kv: 4.974602\n",
      "i: 47, fx: 50.214769, Y: 57.000000, diff: -6.785231, kv: 46.039361\n",
      "i: 48, fx: 47.642879, Y: 51.000000, diff: -3.357121, kv: 11.270262\n",
      "i: 49, fx: 56.415475, Y: 67.000000, diff: -10.584525, kv: 112.032177\n",
      "i: 50, fx: 60.473425, Y: 72.000000, diff: -11.526575, kv: 132.861941\n",
      "i: 51, fx: 79.010475, Y: 89.000000, diff: -9.989525, kv: 99.790615\n",
      "i: 52, fx: 92.714294, Y: 95.000000, diff: -2.285706, kv: 5.224452\n",
      "i: 53, fx: 71.948700, Y: 79.000000, diff: -7.051300, kv: 49.720836\n",
      "i: 54, fx: 57.084494, Y: 39.000000, diff: 18.084494, kv: 327.048932\n",
      "i: 55, fx: 53.249306, Y: 38.000000, diff: 15.249306, kv: 232.541320\n",
      "i: 56, fx: 46.509658, Y: 34.000000, diff: 12.509658, kv: 156.491532\n",
      "i: 57, fx: 46.800830, Y: 47.000000, diff: -0.199170, kv: 0.039669\n",
      "i: 58, fx: 50.607858, Y: 56.000000, diff: -5.392142, kv: 29.075196\n",
      "i: 59, fx: 62.398403, Y: 71.000000, diff: -8.601597, kv: 73.987466\n",
      "i: 60, fx: 75.198683, Y: 78.000000, diff: -2.801317, kv: 7.847375\n",
      "i: 61, fx: 72.170811, Y: 73.000000, diff: -0.829189, kv: 0.687554\n",
      "i: 62, fx: 82.271662, Y: 82.000000, diff: 0.271662, kv: 0.073800\n",
      "i: 63, fx: 61.093118, Y: 62.000000, diff: -0.906882, kv: 0.822436\n",
      "i: 64, fx: 94.530729, Y: 96.000000, diff: -1.469271, kv: 2.158757\n",
      "i: 65, fx: 97.075833, Y: 96.000000, diff: 1.075833, kv: 1.157418\n",
      "i: 66, fx: 58.179551, Y: 46.000000, diff: 12.179551, kv: 148.341459\n",
      "i: 67, fx: 62.016798, Y: 53.000000, diff: 9.016798, kv: 81.302643\n",
      "i: 68, fx: 49.687519, Y: 49.000000, diff: 0.687519, kv: 0.472683\n",
      "i: 69, fx: 73.155045, Y: 76.000000, diff: -2.844955, kv: 8.093767\n",
      "i: 70, fx: 60.648301, Y: 64.000000, diff: -3.351699, kv: 11.233889\n",
      "i: 71, fx: 69.069720, Y: 71.000000, diff: -1.930280, kv: 3.725980\n",
      "i: 72, fx: 81.869725, Y: 84.000000, diff: -2.130275, kv: 4.538072\n",
      "i: 73, fx: 68.205356, Y: 77.000000, diff: -8.794644, kv: 77.345770\n",
      "i: 74, fx: 84.377878, Y: 89.000000, diff: -4.622122, kv: 21.364008\n",
      "i: 75, fx: 78.737959, Y: 82.000000, diff: -3.262041, kv: 10.640914\n",
      "i: 76, fx: 78.039164, Y: 84.000000, diff: -5.960836, kv: 35.531565\n",
      "i: 77, fx: 90.162936, Y: 91.000000, diff: -0.837064, kv: 0.700675\n",
      "i: 78, fx: 70.689774, Y: 67.000000, diff: 3.689774, kv: 13.614431\n",
      "i: 79, fx: 91.723854, Y: 95.000000, diff: -3.276146, kv: 10.733136\n",
      "sum: 3603.873575, kv_m: 45.048420, rmse: 6.711812\n",
      "root mean squared errrors:  6.7118119524263715\n"
     ]
    }
   ],
   "source": [
    "print('root mean squared errrors: ', calculate_loss(X_test, A, Y_test))"
   ]
  },
  {
   "cell_type": "markdown",
   "metadata": {},
   "source": [
    "Gradient tushish orqali topilgan optimal koefisientlar qiymatlari bilan ham tanishishimiz mumkin:"
   ]
  },
  {
   "cell_type": "code",
   "execution_count": 43,
   "metadata": {
    "scrolled": true
   },
   "outputs": [
    {
     "data": {
      "text/plain": [
       "array([[71.5714992 ],\n",
       "       [ 2.20428872],\n",
       "       [ 2.73675912],\n",
       "       [ 1.15151367],\n",
       "       [ 0.28778393],\n",
       "       [ 2.30914182],\n",
       "       [ 5.15882405],\n",
       "       [ 0.80342097]])"
      ]
     },
     "execution_count": 43,
     "metadata": {},
     "output_type": "execute_result"
    }
   ],
   "source": [
    "A"
   ]
  },
  {
   "cell_type": "markdown",
   "metadata": {},
   "source": [
    "Qiymat funksiyasini har qadamda o'zgarishini *plot_cost* funksiyasi orqali grafik tarzda ifodalaylik."
   ]
  },
  {
   "cell_type": "code",
   "execution_count": 44,
   "metadata": {},
   "outputs": [
    {
     "data": {
      "image/png": "[encoded data removed]",
      "text/plain": [
       "<Figure size 640x480 with 1 Axes>"
      ]
     },
     "metadata": {
      "needs_background": "light"
     },
     "output_type": "display_data"
    }
   ],
   "source": [
    "figure(figsize=(8, 6), dpi=80)\n",
    "\n",
    "plot_cost(train_costs, test_costs, n_epochs)"
   ]
  },
  {
   "cell_type": "markdown",
   "metadata": {},
   "source": [
    "Yuqoridagi grafdan ko'rib turibmizki, xatolik mashq to'plamida ham, test to'plamida ham har qadamda tushib boryapti. Bundan xulosa qilishimiz mumkinki, biz yaratgan chiziqli regressiya to'g'ri ishlayapti.\n",
    "\n",
    "Endi amalda test to'plamdagi birinchi 10 qatorni chiziqli regressiya topgan koefisientlar orqali bashorat qilaylik va haqiqiy nishonlar bilan tekshiraylik:"
   ]
  },
  {
   "cell_type": "code",
   "execution_count": 59,
   "metadata": {
    "scrolled": true
   },
   "outputs": [
    {
     "name": "stdout",
     "output_type": "stream",
     "text": [
      "bashorat: 71.051205, haqiqiy: 75.000000\n",
      "bashorat: 72.069340, haqiqiy: 73.000000\n",
      "bashorat: 67.168504, haqiqiy: 72.000000\n",
      "bashorat: 58.397359, haqiqiy: 62.000000\n",
      "bashorat: 63.817418, haqiqiy: 67.000000\n",
      "bashorat: 83.984315, haqiqiy: 81.000000\n",
      "bashorat: 54.675788, haqiqiy: 63.000000\n",
      "bashorat: 52.106927, haqiqiy: 69.000000\n",
      "bashorat: 78.453317, haqiqiy: 80.000000\n",
      "bashorat: 49.207527, haqiqiy: 43.000000\n"
     ]
    }
   ],
   "source": [
    "m_to_predict = 10\n",
    "\n",
    "predicted = f_x(X_test[:m_to_predict,:], A)\n",
    "\n",
    "for i in range(m_to_predict):\n",
    "    print('bashorat: %f, haqiqiy: %f'%(predicted[i], Y_test[i]))"
   ]
  },
  {
   "cell_type": "markdown",
   "metadata": {},
   "source": [
    "Ko'rib turibmizki, biroz xatolik bilan bo'lsada, bashorat qilingan nishonlar haqiqiy nishonlar qiymatlariga bilan yaqin."
   ]
  },
  {
   "cell_type": "code",
   "execution_count": null,
   "metadata": {},
   "outputs": [],
   "source": []
  }
 ],
 "metadata": {
  "kernelspec": {
   "display_name": "Python 3 (ipykernel)",
   "language": "python",
   "name": "python3"
  },
  "language_info": {
   "codemirror_mode": {
    "name": "ipython",
    "version": 3
   },
   "file_extension": ".py",
   "mimetype": "text/x-python",
   "name": "python",
   "nbconvert_exporter": "python",
   "pygments_lexer": "ipython3",
   "version": "3.9.13"
  }
 },
 "nbformat": 4,
 "nbformat_minor": 4
}
